{
 "cells": [
  {
   "cell_type": "markdown",
   "metadata": {},
   "source": [
    "## Monte Carlo - Forecasting Stock Prices - Part II "
   ]
  },
  {
   "cell_type": "markdown",
   "metadata": {},
   "source": [
    "*Suggested Answers follow (usually there are multiple ways to solve a problem in Python).*"
   ]
  },
  {
   "cell_type": "markdown",
   "metadata": {},
   "source": [
    "Forecasting Future Stock Prices – continued:"
   ]
  },
  {
   "cell_type": "code",
   "execution_count": 6,
   "metadata": {
    "collapsed": true
   },
   "outputs": [],
   "source": [
    "import numpy as np  \n",
    "import pandas as pd  \n",
    "from pandas_datareader import data as wb  \n",
    "import matplotlib.pyplot as plt  \n",
    "from scipy.stats import norm\n",
    "%matplotlib inline\n",
    "\n",
    "data = pd.read_csv('MSFT_2000.csv', index_col = 'Date')\n",
    "\n",
    "log_returns = np.log(1 + data.pct_change())\n",
    "u = log_returns.mean()\n",
    "var = log_returns.var()\n",
    "drift = u - (0.5 * var)\n",
    "stdev = log_returns.std()"
   ]
  },
  {
   "cell_type": "markdown",
   "metadata": {},
   "source": [
    "******"
   ]
  },
  {
   "cell_type": "markdown",
   "metadata": {},
   "source": [
    "Use “.values” to transform the *drift* and the *stdev* objects into arrays. "
   ]
  },
  {
   "cell_type": "code",
   "execution_count": 7,
   "metadata": {
    "collapsed": true
   },
   "outputs": [
    {
     "data": {
      "text/plain": [
       "array([-3.42521946e-05])"
      ]
     },
     "execution_count": 7,
     "metadata": {},
     "output_type": "execute_result"
    }
   ],
   "source": [
    "drift.values"
   ]
  },
  {
   "cell_type": "code",
   "execution_count": 8,
   "metadata": {},
   "outputs": [
    {
     "data": {
      "text/plain": [
       "array([0.01939682])"
      ]
     },
     "execution_count": 8,
     "metadata": {},
     "output_type": "execute_result"
    }
   ],
   "source": [
    "stdev.values"
   ]
  },
  {
   "cell_type": "markdown",
   "metadata": {},
   "source": [
    "Forecast future stock prices for every trading day a year ahead. So, assign 250 to “t_intervals”. <br />\n",
    "Let’s examine 10 possible outcomes. Bind “iterations” to the value of 10."
   ]
  },
  {
   "cell_type": "code",
   "execution_count": 9,
   "metadata": {
    "collapsed": true
   },
   "outputs": [],
   "source": [
    "t_intervals = 250\n",
    "iterations = 10"
   ]
  },
  {
   "cell_type": "markdown",
   "metadata": {},
   "source": [
    "Use the formula we have provided and calculate daily returns."
   ]
  },
  {
   "cell_type": "markdown",
   "metadata": {},
   "source": [
    "$$\n",
    "daily\\_returns = exp({drift} + {stdev} * z), \n",
    "$$ \n",
    "<br \\>\n",
    "$$\n",
    "where\\  z = norm.ppf(np.random.rand(t\\_intervals, iterations)\n",
    "$$"
   ]
  },
  {
   "cell_type": "code",
   "execution_count": 12,
   "metadata": {
    "collapsed": true
   },
   "outputs": [
    {
     "data": {
      "text/plain": [
       "array([[0.99603283, 0.99932648, 1.01977792, ..., 0.98166523, 1.00855844,\n",
       "        1.01316388],\n",
       "       [1.00165655, 1.00557251, 1.01112039, ..., 1.01468358, 1.04044541,\n",
       "        0.98918171],\n",
       "       [1.03018718, 1.00651328, 0.98560469, ..., 1.00201061, 1.02139871,\n",
       "        1.0338937 ],\n",
       "       ...,\n",
       "       [1.00080922, 0.99396785, 0.98453239, ..., 0.97959899, 0.96833658,\n",
       "        1.02800306],\n",
       "       [0.98630679, 0.97676238, 1.00122856, ..., 1.01602987, 0.95002636,\n",
       "        1.00267208],\n",
       "       [1.05350181, 1.01197131, 0.95904536, ..., 0.97505272, 0.99380786,\n",
       "        0.97883741]], shape=(250, 10))"
      ]
     },
     "execution_count": 12,
     "metadata": {},
     "output_type": "execute_result"
    }
   ],
   "source": [
    "daily_returns = np.exp(drift.values + stdev.values * (norm.ppf(np.random.rand(t_intervals,iterations))))\n",
    "daily_returns"
   ]
  },
  {
   "cell_type": "code",
   "execution_count": null,
   "metadata": {},
   "outputs": [],
   "source": []
  }
 ],
 "metadata": {
  "kernelspec": {
   "display_name": "Python 3",
   "language": "python",
   "name": "python3"
  },
  "language_info": {
   "codemirror_mode": {
    "name": "ipython",
    "version": 3
   },
   "file_extension": ".py",
   "mimetype": "text/x-python",
   "name": "python",
   "nbconvert_exporter": "python",
   "pygments_lexer": "ipython3",
   "version": "3.10.11"
  }
 },
 "nbformat": 4,
 "nbformat_minor": 2
}
